{
 "cells": [
  {
   "cell_type": "code",
   "execution_count": 2,
   "metadata": {},
   "outputs": [
    {
     "name": "stdout",
     "output_type": "stream",
     "text": [
      "Files already downloaded and verified\n",
      "Files already downloaded and verified\n"
     ]
    }
   ],
   "source": [
    "import torch\n",
    "import torch.utils\n",
    "import torch.utils.data\n",
    "from torchvision import datasets, transforms\n",
    "import torchvision\n",
    "from torch_geometric.data import Data\n",
    "from torch_geometric.loader import DataLoader\n",
    "\n",
    "\n",
    "\n",
    "BATCH_SIZE = 32\n",
    "\n",
    "transform = transforms.Compose([\n",
    "    transforms.Grayscale(num_output_channels=1),\n",
    "    transforms.Resize((28, 28)),\n",
    "    transforms.ToTensor()\n",
    "])\n",
    "\n",
    "train_dataset = datasets.Omniglot(root='./data', background=True, transform=transform, download=True)\n",
    "test_dataset = datasets.Omniglot(root='./data', background=False, transform=transform, download=True)\n",
    "\n",
    "\n",
    "train_loader = torch.utils.data.DataLoader(dataset=train_dataset, batch_size=BATCH_SIZE, shuffle=True)\n",
    "test_loader = torch.utils.data.DataLoader(dataset=test_dataset, batch_size=BATCH_SIZE, shuffle=True)"
   ]
  },
  {
   "cell_type": "code",
   "execution_count": 3,
   "metadata": {},
   "outputs": [
    {
     "name": "stdout",
     "output_type": "stream",
     "text": [
      "Using device: cpu\n"
     ]
    }
   ],
   "source": [
    "device = torch.device('cuda' if torch.cuda.is_available() else 'cpu')\n",
    "print(f'Using device: {device}')\n"
   ]
  },
  {
   "cell_type": "code",
   "execution_count": null,
   "metadata": {},
   "outputs": [],
   "source": [
    "import matplotlib.pyplot as plt\n",
    "Image, Label = next(iter(train_loader))\n",
    "grid_img = torchvision.utils.make_grid(Image, nrow=8, normalize=True)\n",
    "\n",
    "# Convert the grid image tensor to a NumPy array for plotting\n",
    "np_img = grid_img.permute(1, 2, 0).numpy()\n",
    "\n",
    "plt.figure(figsize=(10, 10))\n",
    "plt.imshow(np_img, cmap='gray')\n",
    "plt.title('Batch of Images from train_loader')\n",
    "plt.show()"
   ]
  },
  {
   "cell_type": "code",
   "execution_count": null,
   "metadata": {},
   "outputs": [],
   "source": [
    "import torch.nn as nn\n",
    "from torch_geometric.nn.conv import GATConv\n",
    "from torch_geometric.nn import global_mean_pool\n",
    "\n",
    "class GATfewshot(nn.Module):\n",
    "\n",
    "    def __init__(self, in_channels, hidden_channels, out_channels, num_heads=4, dropout=0.3):\n",
    "        super(GATfewshot, self).__init__()\n",
    "        self.gat1 = GATConv(in_channels, hidden_channels, num_heads, False, dropout)\n",
    "        self.gat2 = GATConv(hidden_channels, out_channels, 1, False, dropout)\n",
    "\n",
    "    def forward(self, x, edge_index, batch_size):\n",
    "        out = self.gat1(x, edge_index)\n",
    "        out = torch.relu(out)\n",
    "        out = self.gat2(out, edge_index)\n",
    "        out = global_mean_pool(out, batch_size)\n",
    "        return out\n",
    "    \n",
    "\n",
    "\n",
    "class Generator(nn.Module):\n",
    "    def __init__(self, z_dim, hidden_dim, out_dim):\n",
    "        super(Generator, self).__init__()\n",
    "        self.l1 = nn.Linear(z_dim, hidden_dim)\n",
    "        self.l2 = nn.Linear(hidden_dim, out_dim)\n",
    "\n",
    "    def forward(self, z):\n",
    "        x = torch.relu(self.l1(z))\n",
    "        x = torch.relu(self.l2(x))\n",
    "        x = x.view(x.size(0), 1, 28, 28)\n",
    "        x = torch.sigmoid(x)\n",
    "        return x\n",
    "    \n",
    "class Discriminator(nn.Module):\n",
    "    def __init__(self):\n",
    "        super(Discriminator, self).__init__()\n",
    "        self.conv1 = nn.Conv2d(1, 64, kernel_size=3, stride=2, padding=1)\n",
    "        self.conv2 = nn.Conv2d(64, 128, kernel_size=3, stride=2, padding=1)\n",
    "        self.fc1 = nn.Linear(128 * 7 * 7, 1)\n",
    "    \n",
    "    def forward(self, x):\n",
    "        x = torch.relu(self.conv1(x))\n",
    "        x = torch.relu(self.conv2(x))\n",
    "        x = x.view(x.size(0), -1)\n",
    "        x = self.fc1(x)\n",
    "        x = torch.sigmoid(x)\n",
    "        return x\n",
    "\n",
    "\n"
   ]
  },
  {
   "cell_type": "code",
   "execution_count": null,
   "metadata": {},
   "outputs": [],
   "source": [
    "class Generator(nn.Module):\n",
    "    def __init__(self, z_dim, hidden_dim, out_dim):\n",
    "        super(Generator, self).__init__()\n",
    "        self.l1 = nn.Linear(z_dim, hidden_dim)\n",
    "        self.l2 = nn.Linear(hidden_dim, out_dim)\n",
    "\n",
    "    def forward(self, z):\n",
    "        x = torch.relu(self.l1(z))\n",
    "        x = torch.relu(self.l2(x))\n",
    "        x = x.view(x.size(0), 1, 28, 28)\n",
    "        x = torch.sigmoid(x)\n",
    "        return x\n",
    "    \n",
    "\n"
   ]
  },
  {
   "cell_type": "code",
   "execution_count": null,
   "metadata": {},
   "outputs": [],
   "source": [
    "gat_in_channels = 1\n",
    "gat_hidden_channels = 64\n",
    "gat_out_channels = 100\n",
    "\n",
    "z_dim = 100\n",
    "g_hidden_dim = 256\n",
    "g_out_dim = 28*28\n",
    "\n",
    "Disc = Discriminator()\n",
    "Genr = Generator(z_dim,g_hidden_dim,g_out_dim)\n",
    "GAT = GATfewshot(gat_in_channels,gat_hidden_channels,gat_out_channels)\n",
    "\n",
    "Disc.to(device)\n",
    "Genr.to(device)\n",
    "GAT.to(device)\n"
   ]
  },
  {
   "cell_type": "code",
   "execution_count": null,
   "metadata": {},
   "outputs": [],
   "source": [
    "from itertools import product\n",
    "\n",
    "def create_grid_edge_index(size):\n",
    "    nodes = list(product(range(size), range(size)))\n",
    "    edges = []\n",
    "    \n",
    "    for i, (x, y) in enumerate(nodes):\n",
    "        if x < size - 1:\n",
    "            edges.append((i, i + size))  # Connect to pixel below\n",
    "        if y < size - 1:\n",
    "            edges.append((i, i + 1))  # Connect to pixel to the right\n",
    "\n",
    "    edge_index = torch.tensor(edges, dtype=torch.long).t().contiguous()\n",
    "    return edge_index\n",
    "\n",
    "\n",
    "size=28\n",
    "edge_index = create_grid_edge_index(size)"
   ]
  },
  {
   "cell_type": "code",
   "execution_count": null,
   "metadata": {},
   "outputs": [],
   "source": [
    "class GraphDataset(torch.utils.data.Dataset):\n",
    "    def __init__(self, images):\n",
    "        self.images = images\n",
    "\n",
    "    def __len__(self):\n",
    "        return len(self.images)\n",
    "\n",
    "    def __getitem__(self, idx):\n",
    "        image = self.images[idx]\n",
    "        image = image.view(-1, 1)  # Each pixel is a node with 1 feature (its intensity)\n",
    "        return Data(x=image, edge_index=edge_index)\n",
    "    \n",
    "\n",
    "# Convert Omniglot dataset to graph dataset\n",
    "graph_dataset = GraphDataset([data[0] for data in train_dataset])\n",
    "graph_loader = DataLoader(graph_dataset, batch_size=32, shuffle=True)"
   ]
  },
  {
   "cell_type": "code",
   "execution_count": null,
   "metadata": {},
   "outputs": [],
   "source": [
    "# Loss and optimizers\n",
    "criterion = nn.BCELoss()\n",
    "optimizer_d = torch.optim.Adam(Disc.parameters(), lr=0.002)\n",
    "optimizer_g = torch.optim.Adam(Genr.parameters(), lr=0.002)\n",
    "optimizer_gat = torch.optim.Adam(GAT.parameters(), lr=0.002)"
   ]
  },
  {
   "cell_type": "code",
   "execution_count": null,
   "metadata": {},
   "outputs": [],
   "source": [
    "edge_index.shape"
   ]
  },
  {
   "cell_type": "code",
   "execution_count": null,
   "metadata": {},
   "outputs": [],
   "source": [
    "nn.Upsample"
   ]
  },
  {
   "cell_type": "code",
   "execution_count": null,
   "metadata": {},
   "outputs": [],
   "source": [
    "# Training loop\n",
    "num_epochs = 10\n",
    "\n",
    "for epoch in range(num_epochs):\n",
    "    for data in graph_loader:\n",
    "        images = data.x\n",
    "        batch_size = images.size(0) // (28 * 28)\n",
    "        images = images.view(batch_size, 28, 28, 1).permute(0, 3, 1, 2)\n",
    "        \n",
    "        labels = torch.ones(batch_size, 1)  # Real images\n",
    "        fake_labels = torch.zeros(batch_size, 1)  # Fake images\n",
    "        \n",
    "        # Train Discriminator\n",
    "        optimizer_d.zero_grad()\n",
    "        real_outputs = Disc(images)\n",
    "        d_loss_real = criterion(real_outputs, labels)\n",
    "        d_loss_real.backward()\n",
    "        \n",
    "        z = torch.randn(batch_size, z_dim)\n",
    "        fake_images = Genr(z)\n",
    "        fake_outputs = Disc(fake_images.detach())\n",
    "        d_loss_fake = criterion(fake_outputs, fake_labels)\n",
    "        d_loss_fake.backward()\n",
    "        optimizer_d.step()\n",
    "        \n",
    "        # Train Generator\n",
    "        optimizer_g.zero_grad()\n",
    "        fake_outputs = Disc(fake_images)\n",
    "        g_loss = criterion(fake_outputs, labels)\n",
    "        g_loss.backward()\n",
    "        optimizer_g.step()\n",
    "        \n",
    "        # Train GAT\n",
    "        optimizer_gat.zero_grad()\n",
    "        g_features = GAT(data.x.to(device), data.edge_index.to(device), data.batch.to(device))\n",
    "        g_features = g_features.view(batch_size, z_dim)  # Reshape to match the Generator input\n",
    "        fake_images = Genr(g_features)\n",
    "        gat_outputs = Disc(fake_images)\n",
    "        gat_loss = criterion(gat_outputs, labels)\n",
    "        gat_loss.backward()\n",
    "        optimizer_gat.step()\n",
    "        \n",
    "    print(f'Epoch [{epoch+1}/{num_epochs}] | D Loss: {d_loss_real.item() + d_loss_fake.item()} | G Loss: {g_loss.item()} | GAT Loss: {gat_loss.item()}')\n",
    "\n",
    "# Evaluation\n",
    "with torch.no_grad():\n",
    "    z = torch.randn(16, z_dim)\n",
    "    fake_images = Genr(z)\n",
    "    grid_img = torchvision.utils.make_grid(fake_images, nrow=4, normalize=True)\n",
    "    plt.imshow(grid_img.permute(1, 2, 0))\n",
    "    plt.title('Generated Images')\n",
    "    plt.show()"
   ]
  },
  {
   "cell_type": "code",
   "execution_count": null,
   "metadata": {},
   "outputs": [],
   "source": []
  }
 ],
 "metadata": {
  "kernelspec": {
   "display_name": "base",
   "language": "python",
   "name": "python3"
  },
  "language_info": {
   "codemirror_mode": {
    "name": "ipython",
    "version": 3
   },
   "file_extension": ".py",
   "mimetype": "text/x-python",
   "name": "python",
   "nbconvert_exporter": "python",
   "pygments_lexer": "ipython3",
   "version": "3.10.13"
  }
 },
 "nbformat": 4,
 "nbformat_minor": 2
}
